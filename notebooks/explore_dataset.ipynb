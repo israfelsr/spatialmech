{
 "cells": [
  {
   "cell_type": "markdown",
   "metadata": {},
   "source": [
    "# Dataset Exploration Notebook\n",
    "\n",
    "This notebook allows you to visualize images and prompts from the spatial reasoning datasets."
   ]
  },
  {
   "cell_type": "code",
   "execution_count": null,
   "metadata": {},
   "outputs": [],
   "source": [
    "import matplotlib.pyplot as plt\n",
    "import json\n",
    "from dataset_zoo import get_dataset\n",
    "import numpy as np\n",
    "from PIL import Image\n",
    "\n",
    "%matplotlib inline"
   ]
  },
  {
   "cell_type": "markdown",
   "metadata": {},
   "source": [
    "## Configuration"
   ]
  },
  {
   "cell_type": "code",
   "execution_count": null,
   "metadata": {},
   "outputs": [],
   "source": [
    "# Choose dataset\n",
    "DATASET_NAME = \"Controlled_Images_A\"  # Options: Controlled_Images_A, Controlled_Images_B, COCO_QA_one_obj, COCO_QA_two_obj, VG_QA_one_obj, VG_QA_two_obj\n",
    "DATA_DIR = \"/leonardo_work/EUHPC_D27_102/compmech/whatsup_vlms_data\"  # Path to data\n",
    "\n",
    "# Load prompts\n",
    "dataset_options = {\n",
    "    \"COCO_QA_one_obj\": \"four\",\n",
    "    \"COCO_QA_two_obj\": \"four\",\n",
    "    \"Controlled_Images_A\": \"four\",\n",
    "    \"Controlled_Images_B\": \"four\",\n",
    "    \"VG_QA_one_obj\": \"six\",\n",
    "    \"VG_QA_two_obj\": \"six\",\n",
    "}\n",
    "option = dataset_options.get(DATASET_NAME, \"four\")"
   ]
  },
  {
   "cell_type": "markdown",
   "metadata": {},
   "source": [
    "## Load Dataset"
   ]
  },
  {
   "cell_type": "code",
   "execution_count": null,
   "metadata": {},
   "outputs": [],
   "source": [
    "# Load dataset\n",
    "dataset = get_dataset(DATASET_NAME, image_preprocess=None, download=False, root_dir=DATA_DIR)\n",
    "\n",
    "# Load prompts\n",
    "prompt_file = f\"./prompts/{DATASET_NAME}_with_answer_{option}_options.jsonl\"\n",
    "prompts = []\n",
    "answers = []\n",
    "\n",
    "with open(prompt_file, 'r') as f:\n",
    "    for line in f:\n",
    "        data = json.loads(line)\n",
    "        prompts.append(data['question'])\n",
    "        answers.append(data['answer'])\n",
    "\n",
    "print(f\"Dataset: {DATASET_NAME}\")\n",
    "print(f\"Total samples: {len(dataset)}\")\n",
    "print(f\"Total prompts: {len(prompts)}\")"
   ]
  },
  {
   "cell_type": "markdown",
   "metadata": {},
   "source": [
    "## Visualize Random Samples"
   ]
  },
  {
   "cell_type": "code",
   "execution_count": null,
   "metadata": {},
   "outputs": [],
   "source": [
    "def plot_samples(dataset, prompts, answers, indices=None, n=9):\n",
    "    \"\"\"\n",
    "    Plot n random samples from the dataset with their prompts.\n",
    "    \n",
    "    Args:\n",
    "        dataset: The dataset object\n",
    "        prompts: List of prompts\n",
    "        answers: List of answers\n",
    "        indices: Specific indices to plot (optional)\n",
    "        n: Number of samples to plot (default: 9)\n",
    "    \"\"\"\n",
    "    if indices is None:\n",
    "        indices = np.random.choice(len(dataset), size=min(n, len(dataset)), replace=False)\n",
    "    \n",
    "    n = len(indices)\n",
    "    rows = int(np.ceil(np.sqrt(n)))\n",
    "    cols = int(np.ceil(n / rows))\n",
    "    \n",
    "    fig, axes = plt.subplots(rows, cols, figsize=(20, 20))\n",
    "    axes = axes.flatten() if n > 1 else [axes]\n",
    "    \n",
    "    for idx, ax in enumerate(axes):\n",
    "        if idx < len(indices):\n",
    "            sample_idx = indices[idx]\n",
    "            sample = dataset[sample_idx]\n",
    "            \n",
    "            # Get image (handle different dataset formats)\n",
    "            if hasattr(sample, 'image_options'):\n",
    "                img = sample.image_options[0]\n",
    "            else:\n",
    "                img = sample['image_options'][0]\n",
    "            \n",
    "            # Convert to numpy if needed\n",
    "            if not isinstance(img, Image.Image):\n",
    "                img = Image.fromarray(img)\n",
    "            \n",
    "            ax.imshow(img)\n",
    "            ax.axis('off')\n",
    "            \n",
    "            # Add prompt as title\n",
    "            prompt_text = prompts[sample_idx][:100]  # Truncate if too long\n",
    "            answer_text = answers[sample_idx][0] if isinstance(answers[sample_idx], list) else answers[sample_idx]\n",
    "            ax.set_title(f\"Sample {sample_idx}\\nPrompt: {prompt_text}...\\nAnswer: {answer_text}\", \n",
    "                        fontsize=10, wrap=True)\n",
    "        else:\n",
    "            ax.axis('off')\n",
    "    \n",
    "    plt.tight_layout()\n",
    "    plt.show()\n",
    "\n",
    "# Plot 9 random samples\n",
    "plot_samples(dataset, prompts, answers, n=9)"
   ]
  },
  {
   "cell_type": "markdown",
   "metadata": {},
   "source": [
    "## Explore Specific Samples"
   ]
  },
  {
   "cell_type": "code",
   "execution_count": null,
   "metadata": {},
   "outputs": [],
   "source": [
    "# Plot specific indices (e.g., the first 9)\n",
    "specific_indices = list(range(9))\n",
    "plot_samples(dataset, prompts, answers, indices=specific_indices)"
   ]
  },
  {
   "cell_type": "markdown",
   "metadata": {},
   "source": [
    "## Analyze Prompt Distribution"
   ]
  },
  {
   "cell_type": "code",
   "execution_count": null,
   "metadata": {},
   "outputs": [],
   "source": [
    "from collections import Counter\n",
    "\n",
    "# Count answer distribution\n",
    "answer_list = [ans[0] if isinstance(ans, list) else ans for ans in answers]\n",
    "answer_counts = Counter(answer_list)\n",
    "\n",
    "print(\"Answer Distribution:\")\n",
    "for answer, count in answer_counts.most_common():\n",
    "    print(f\"  {answer}: {count} ({100*count/len(answers):.1f}%)\")\n",
    "\n",
    "# Plot distribution\n",
    "plt.figure(figsize=(10, 6))\n",
    "plt.bar(answer_counts.keys(), answer_counts.values())\n",
    "plt.xlabel('Answer')\n",
    "plt.ylabel('Count')\n",
    "plt.title(f'Answer Distribution in {DATASET_NAME}')\n",
    "plt.xticks(rotation=45)\n",
    "plt.tight_layout()\n",
    "plt.show()"
   ]
  },
  {
   "cell_type": "markdown",
   "metadata": {},
   "source": [
    "## Interactive Sample Viewer"
   ]
  },
  {
   "cell_type": "code",
   "execution_count": null,
   "metadata": {},
   "outputs": [],
   "source": [
    "def view_sample(idx):\n",
    "    \"\"\"View a specific sample in detail.\"\"\"\n",
    "    sample = dataset[idx]\n",
    "    \n",
    "    # Get image\n",
    "    if hasattr(sample, 'image_options'):\n",
    "        img = sample.image_options[0]\n",
    "    else:\n",
    "        img = sample['image_options'][0]\n",
    "    \n",
    "    if not isinstance(img, Image.Image):\n",
    "        img = Image.fromarray(img)\n",
    "    \n",
    "    # Display\n",
    "    plt.figure(figsize=(10, 8))\n",
    "    plt.imshow(img)\n",
    "    plt.axis('off')\n",
    "    \n",
    "    answer_text = answers[idx][0] if isinstance(answers[idx], list) else answers[idx]\n",
    "    plt.title(f\"Sample {idx}\\n\\nPrompt: {prompts[idx]}\\n\\nGolden Answer: {answer_text}\", \n",
    "             fontsize=12, pad=20)\n",
    "    plt.tight_layout()\n",
    "    plt.show()\n",
    "\n",
    "# View a specific sample (change the index to explore different samples)\n",
    "view_sample(0)"
   ]
  },
  {
   "cell_type": "code",
   "execution_count": null,
   "metadata": {},
   "outputs": [],
   "source": []
  }
 ],
 "metadata": {
  "kernelspec": {
   "display_name": "Python 3",
   "language": "python",
   "name": "python3"
  },
  "language_info": {
   "codemirror_mode": {
    "name": "ipython",
    "version": 3
   },
   "file_extension": ".py",
   "mimetype": "text/x-python",
   "name": "python",
   "nbconvert_exporter": "python",
   "pygments_lexer": "ipython3",
   "version": "3.11.0"
  }
 },
 "nbformat": 4,
 "nbformat_minor": 4
}
