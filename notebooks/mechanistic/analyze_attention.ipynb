{
 "cells": [
  {
   "cell_type": "code",
   "execution_count": null,
   "id": "63e77904",
   "metadata": {},
   "outputs": [],
   "source": [
    "import sys\n",
    "sys.path.append('../..')\n",
    "\n",
    "import torch\n",
    "import numpy as np\n",
    "import matplotlib.pyplot as plt\n",
    "from PIL import Image\n",
    "from transformers import Qwen3VLForConditionalGeneration, AutoProcessor\n",
    "\n",
    "import random\n",
    "import torch\n",
    "import pickle\n",
    "from pathlib import Path\n",
    "\n",
    "from dataset_zoo.aro_datasets import get_controlled_images_b, get_controlled_images_a\n",
    "from mechanistic.utils.visualization import (\n",
    "    plot_attention_heatmap, \n",
    "    plot_attention_on_image,\n",
    "    plot_cross_attention_attribution\n",
    ")\n",
    "from mechanistic.utils.hooks import AttentionCache\n",
    "from mechanistic.utils.metrics import attention_entropy, attention_concentration\n",
    "\n",
    "%matplotlib inline\n",
    "%load_ext autoreload\n",
    "%autoreload 2"
   ]
  },
  {
   "cell_type": "code",
   "execution_count": null,
   "id": "b7c4042c",
   "metadata": {},
   "outputs": [],
   "source": "# ============================================================\n# EXPERIMENT 2B: Statistics across all layers\n# ============================================================\n\n# Collect statistics for all layers\nsample_idx = 0\nsample = outputs[sample_idx]\nnum_layers = len(sample['attentions'])\n\nlayer_stats = []\nfor layer_idx in range(num_layers):\n    attention_layer = sample['attentions'][layer_idx]\n    avg_attn = attention_layer.mean(dim=1)[0]\n    flat_attn = avg_attn.flatten().numpy()\n    \n    layer_stats.append({\n        'layer': layer_idx,\n        'mean': flat_attn.mean(),\n        'std': flat_attn.std(),\n        'max': flat_attn.max(),\n        'min': flat_attn.min(),\n        'median': np.median(flat_attn)\n    })\n\n# Plot statistics trends across layers\nfig, axes = plt.subplots(2, 2, figsize=(14, 10))\n\nlayers = [s['layer'] for s in layer_stats]\nmeans = [s['mean'] for s in layer_stats]\nstds = [s['std'] for s in layer_stats]\nmaxs = [s['max'] for s in layer_stats]\nmins = [s['min'] for s in layer_stats]\n\naxes[0, 0].plot(layers, means, marker='o', linewidth=2, markersize=6)\naxes[0, 0].set_title('Mean Attention Weight per Layer', fontweight='bold')\naxes[0, 0].set_xlabel('Layer')\naxes[0, 0].set_ylabel('Mean')\naxes[0, 0].grid(True, alpha=0.3)\n\naxes[0, 1].plot(layers, stds, marker='o', linewidth=2, markersize=6, color='orange')\naxes[0, 1].set_title('Std Deviation per Layer', fontweight='bold')\naxes[0, 1].set_xlabel('Layer')\naxes[0, 1].set_ylabel('Std')\naxes[0, 1].grid(True, alpha=0.3)\n\naxes[1, 0].plot(layers, maxs, marker='o', linewidth=2, markersize=6, color='green', label='Max')\naxes[1, 0].plot(layers, mins, marker='o', linewidth=2, markersize=6, color='red', label='Min')\naxes[1, 0].set_title('Max/Min Attention Weight per Layer', fontweight='bold')\naxes[1, 0].set_xlabel('Layer')\naxes[1, 0].set_ylabel('Value')\naxes[1, 0].legend()\naxes[1, 0].grid(True, alpha=0.3)\n\n# Plot range (max - min) per layer\nranges = [s['max'] - s['min'] for s in layer_stats]\naxes[1, 1].plot(layers, ranges, marker='o', linewidth=2, markersize=6, color='purple')\naxes[1, 1].set_title('Range (Max - Min) per Layer', fontweight='bold')\naxes[1, 1].set_xlabel('Layer')\naxes[1, 1].set_ylabel('Range')\naxes[1, 1].grid(True, alpha=0.3)\n\nplt.tight_layout()\nplt.show()\n\n# Print table of statistics\nprint(\"\\n\" + \"=\"*80)\nprint(\"LAYER-WISE ATTENTION STATISTICS\")\nprint(\"=\"*80)\nprint(f\"{'Layer':<8} {'Mean':<10} {'Std':<10} {'Min':<10} {'Max':<10} {'Median':<10}\")\nprint(\"-\"*80)\nfor stats in layer_stats:\n    print(f\"{stats['layer']:<8} {stats['mean']:<10.6f} {stats['std']:<10.6f} \"\n          f\"{stats['min']:<10.6f} {stats['max']:<10.6f} {stats['median']:<10.6f}\")"
  }
 ],
 "metadata": {
  "kernelspec": {
   "display_name": "spatialmech",
   "language": "python",
   "name": "python3"
  },
  "language_info": {
   "codemirror_mode": {
    "name": "ipython",
    "version": 3
   },
   "file_extension": ".py",
   "mimetype": "text/x-python",
   "name": "python",
   "nbconvert_exporter": "python",
   "pygments_lexer": "ipython3",
   "version": "3.11.14"
  }
 },
 "nbformat": 4,
 "nbformat_minor": 5
}